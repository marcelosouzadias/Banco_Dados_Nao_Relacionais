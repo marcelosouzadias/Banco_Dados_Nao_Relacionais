{
 "cells": [
  {
   "cell_type": "code",
   "execution_count": 11,
   "metadata": {},
   "outputs": [
    {
     "name": "stdout",
     "output_type": "stream",
     "text": [
      "informe um Twitterasdfasdf\n"
     ]
    }
   ],
   "source": []
  },
  {
   "cell_type": "code",
   "execution_count": 17,
   "metadata": {},
   "outputs": [
    {
     "name": "stdout",
     "output_type": "stream",
     "text": [
      "informe um Twitter: marcelo\n",
      "Buscando Twitter de marcelo\n",
      "\n",
      "Vamos tornar realidade @marcelo ?\n",
      "\n",
      "Eu estou tentando nao pensar em vocé @marcelo, estou tentando não me entregar a você @marcelo\n",
      "\n",
      "@LivroCast @marcelo Quando teremos a minha entrevista no podcast? (autor pidão) =)\n",
      "\n",
      "@Marcelo de lacerda ele nao responde porque tem cupa no cartorio prende este terme\n",
      "\n",
      "@Marcelo de lacerda olha cara do safado terme jornal nacional nova delacaoes entre aceiyo e batista e terme\n",
      "\n",
      "@Marcelo de lacerda terme tem que fica presi\n",
      "\n",
      "ops desculpa incomodar @marcelo, n achei q ia existir alguém com um twitter tão simples desses\n",
      "\n",
      "pq desse lado ngm tá falando hein @marcelo?\n",
      "\n",
      "Passagem de som \n",
      "\n",
      "@marcelo.anjosderesgate\n",
      "E @kenniaoficial\n",
      "#expocatolica\n",
      "#Anjosderesgate… https://www.instagram.com/p/BVNdkZWlZoJ/ \n",
      "\n",
      "@Marcelo de laceda terme tem que fica preso nao tenha dor dele prende este safado ladrao jornal nacional\n",
      "\n",
      "@Marcelo de lacerda agora chegou sua hora terme fica preso todos ministro vao prender voce chegou sua hora safado ladrao\n",
      "\n",
      "@Marcelo de lacerda aceiyo e currupto mais periguzo nao tem a dor dele prende este ladrao safado mais perigozo politico\n",
      "\n",
      "@pauloramos @Marcelo @EliomarCoelho @EdimilsonAvila 2 meses sem salários,servidor passa fome e se desespra,cadê o legislativo? Pezão ri.\n",
      "\n",
      "ou quer pagar de bilingue\n",
      "\n",
      "@Marcelo Vieira #F.C.Real Madrid #Champion2014/145 #acrylicpainting #162x81cm #www.mariannebruniart.compic.twitter.com/zbkiXza0Lw\n",
      "\n",
      "ESSE CONTATO EXISTE\n",
      "\n",
      "É ele msm\n",
      "\n",
      "@Ana_scarpAM @BlauBlauOficial ESTAMOSCOMVCSBLAULETE @OficialGanacin @mateusvboeira @cairojardim @MARCELO pic.twitter.com/5RXqr63Ja3\n",
      "\n",
      "#PapoDeSegundaNoGNT pior q  se submeter a fila preferencial é ser perseguida por \"justiceiros\" @marcelo @JoaoVicente27pic.twitter.com/iQWD6BUceQ\n",
      "\n"
     ]
    }
   ],
   "source": [
    "#instalar a bibliteca request\n",
    "#antes de chamar o jupyter notebook e depois criar ou activate do projeto fazer o comando \n",
    "#conda install requests\n",
    "#importar a biblioteca request\n",
    "import requests\n",
    "\n",
    "busca = input('informe um Twitter: ')\n",
    "print('Buscando Twitter de', busca)\n",
    "print()\n",
    "\n",
    "url = u'https://twitter.com/search?q='\n",
    "query = u'%40'+ busca + '&src=typd'\n",
    "r = requests.get(url+query)\n",
    "soup = BeautifulSoup(r.text, 'html.parser')\n",
    "tweets = [p.text for p in soup.findAll('p', class_='tweet-text')]\n",
    "for item in tweets:\n",
    "    print(item)\n",
    "    print()\n"
   ]
  }
 ],
 "metadata": {
  "kernelspec": {
   "display_name": "Python 3",
   "language": "python",
   "name": "python3"
  },
  "language_info": {
   "codemirror_mode": {
    "name": "ipython",
    "version": 3
   },
   "file_extension": ".py",
   "mimetype": "text/x-python",
   "name": "python",
   "nbconvert_exporter": "python",
   "pygments_lexer": "ipython3",
   "version": "3.6.1"
  }
 },
 "nbformat": 4,
 "nbformat_minor": 2
}
