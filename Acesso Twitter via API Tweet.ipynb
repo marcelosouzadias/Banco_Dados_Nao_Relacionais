{
 "cells": [
  {
   "cell_type": "code",
   "execution_count": null,
   "metadata": {},
   "outputs": [],
   "source": [
    "import tweepy\n",
    "import json\n",
    "\n",
    "consumer_key = 'KuCvebLejyY9urCFrXYUP857m'\n",
    "consumer_secret = 'qv4DCAjHzpmV2XNagHlcEU4roajDkDMUdzG4WBTE4tiMSCumQE'\n",
    "access_token = '60646343-lYyRWfewE05X4ZcYtcAYI54hLXPtE2gbDrEI1a4wm'\n",
    "access_token_secret = 'FGj9VauJvYR8knDQxw8c73FWSxYk8zXbbwrTBisPLsJJs'\n",
    "\n",
    "auth = tweepy.OAuthHandler(consumer_key, consumer_secret)\n",
    "auth.set_access_token(access_token, access_token_secret)\n",
    "api = tweepy.API(auth)\n",
    "\n",
    "tweet = 'Twitter usando Python!!'\n",
    "#print(api.me().name)\n",
    "\n",
    "busca = input('Informe a busca: ')\n",
    "print()\n",
    "#for tweet in tweepy.Cursor(api.search, q=\"marcelodsd\",rpp=100,result_type=\"recent\",include_entities=True,lang=\"en\").items():\n",
    "\n",
    "for tweet in tweepy.Cursor(api.search, q=busca,rpp=100,include_entities=True).items():\n",
    "    print('Data:', tweet.created_at)\n",
    "    print('ID:', tweet.id)\n",
    "    print('Autor:', tweet.user.screen_name)\n",
    "    print('Mensagem:', tweet.text)    \n",
    "    print('-----------------------------------------------------------------------------------------------------------')\n",
    "    #print(tweet)\n"
   ]
  }
 ],
 "metadata": {
  "kernelspec": {
   "display_name": "Python 3",
   "language": "python",
   "name": "python3"
  },
  "language_info": {
   "codemirror_mode": {
    "name": "ipython",
    "version": 3
   },
   "file_extension": ".py",
   "mimetype": "text/x-python",
   "name": "python",
   "nbconvert_exporter": "python",
   "pygments_lexer": "ipython3",
   "version": "3.6.1"
  }
 },
 "nbformat": 4,
 "nbformat_minor": 2
}
