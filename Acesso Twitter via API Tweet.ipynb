{
 "cells": [
  {
   "cell_type": "code",
   "execution_count": 17,
   "metadata": {},
   "outputs": [
    {
     "name": "stdout",
     "output_type": "stream",
     "text": [
      "Informe a busca: marcelodsd\n",
      "\n",
      "Data: 2017-06-20 19:06:29\n",
      "ID: 877241259836026880\n",
      "Autor: marcelodsd\n",
      "Mensagem: Twitter usando Python!!\n",
      "-----------------------------------------------------------------------------------------------------------\n",
      "Data: 2017-06-20 19:05:01\n",
      "ID: 877240890665951232\n",
      "Autor: marcelodsd\n",
      "Mensagem: Twitter usando Python!\n",
      "-----------------------------------------------------------------------------------------------------------\n",
      "Data: 2017-06-14 00:15:23\n",
      "ID: 874782281046667268\n",
      "Autor: marcelodsd\n",
      "Mensagem: stunting Python!!!\n",
      "-----------------------------------------------------------------------------------------------------------\n",
      "Data: 2017-06-13 13:17:38\n",
      "ID: 874616754940645377\n",
      "Autor: marcelodsd\n",
      "Mensagem: #TransformacaoDigital\n",
      "-----------------------------------------------------------------------------------------------------------\n",
      "Data: 2017-06-12 14:47:16\n",
      "ID: 874276923177881600\n",
      "Autor: marcelodsd\n",
      "Mensagem: Iniciar a semana!!!!\n",
      "Semana com feriado!!!!\n",
      "-----------------------------------------------------------------------------------------------------------\n",
      "Data: 2017-06-11 17:16:34\n",
      "ID: 873952110089523203\n",
      "Autor: marcelodsd\n",
      "Mensagem: #Domingão #Kaiser #Churasco #Esposa tudo que um homem pode querer #Filha\n",
      "-----------------------------------------------------------------------------------------------------------\n"
     ]
    }
   ],
   "source": [
    "import tweepy\n",
    "import json\n",
    "\n",
    "consumer_key = 'KuCvebLejyY9urCFrXYUP857m'\n",
    "consumer_secret = 'qv4DCAjHzpmV2XNagHlcEU4roajDkDMUdzG4WBTE4tiMSCumQE'\n",
    "access_token = '60646343-lYyRWfewE05X4ZcYtcAYI54hLXPtE2gbDrEI1a4wm'\n",
    "access_token_secret = 'FGj9VauJvYR8knDQxw8c73FWSxYk8zXbbwrTBisPLsJJs'\n",
    "\n",
    "auth = tweepy.OAuthHandler(consumer_key, consumer_secret)\n",
    "auth.set_access_token(access_token, access_token_secret)\n",
    "api = tweepy.API(auth)\n",
    "\n",
    "tweet = 'Twitter usando Python!!'\n",
    "#print(api.me().name)\n",
    "\n",
    "busca = input('Informe a busca: ')\n",
    "print()\n",
    "#for tweet in tweepy.Cursor(api.search, q=\"marcelodsd\",rpp=100,result_type=\"recent\",include_entities=True,lang=\"en\").items():\n",
    "\n",
    "if tweepy.error.is_rate_limit_error_message(api):\n",
    "    print('Ultrapassou o limite de 15 minutos aguarde uns instante para realizar a pesquisa novamente')\n",
    "else:\n",
    "    for tweet in tweepy.Cursor(api.search, q=busca,rpp=100,include_entities=True).items():\n",
    "        print('Data:', tweet.created_at)\n",
    "        print('ID:', tweet.id)\n",
    "        print('Autor:', tweet.user.screen_name)\n",
    "        print('Mensagem:', tweet.text)    \n",
    "        print('-----------------------------------------------------------------------------------------------------------')\n",
    "    \n"
   ]
  }
 ],
 "metadata": {
  "kernelspec": {
   "display_name": "Python 3",
   "language": "python",
   "name": "python3"
  }
 },
 "nbformat": 4,
 "nbformat_minor": 2
}
